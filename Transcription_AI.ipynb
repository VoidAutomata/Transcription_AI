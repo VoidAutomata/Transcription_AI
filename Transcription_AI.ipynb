{
  "nbformat": 4,
  "nbformat_minor": 0,
  "metadata": {
    "colab": {
      "provenance": [],
      "authorship_tag": "ABX9TyM1IHnhQnHm+pTVht6VdxOv"
    },
    "kernelspec": {
      "name": "python3",
      "display_name": "Python 3"
    },
    "language_info": {
      "name": "python"
    }
  },
  "cells": [
    {
      "cell_type": "code",
      "execution_count": null,
      "metadata": {
        "id": "fd-JXQsD9Ws7"
      },
      "outputs": [],
      "source": [
        "#@title Import Statements\n",
        "!pip install pydub\n",
        "!pip install SpeechRecognition\n",
        "from pydub import AudioSegment\n",
        "from pydub.utils import make_chunks\n",
        "import os\n",
        "import speech_recognition as sr"
      ]
    },
    {
      "cell_type": "code",
      "source": [
        "#@title Generate Text from Audio\n",
        "\n",
        "FILE_INPUT = \"audio.m4a\" # @param {type:\"string\"}\n",
        "\n",
        "def process_audio (FILE_INPUT):\n",
        "    txtf = open(\"audio_txt.txt\", \"a\")\n",
        "    audio = AudioSegment.from_file(FILE_INPUT)\n",
        "    chunks_length_ms = 10000\n",
        "    chunks = make_chunks(audio, chunks_length_ms)\n",
        "    for i, chunk in enumerate(chunks):\n",
        "        chunk_name = './chunks/'+FILE_INPUT+\"_(0).m4a\".format(i)\n",
        "        print(\"exporting chunk \", chunk_name)\n",
        "        chunk.export(chunk_name, format=\"wav\")\n",
        "        file = chunk_name\n",
        "        r = sr.Recognizer()\n",
        "        with sr.AudioFile(file) as source:\n",
        "            audio_listen = r.listen(source)\n",
        "        try:\n",
        "            rec = r.recognize_google(audio_listen)\n",
        "            txtf.write(rec+\". \")\n",
        "        except sr.UnknownValueError:\n",
        "          print(\"unrecognized audio\")\n",
        "        except sr.RequestError as e:\n",
        "\t\t\t      print(\"request error \", e)\n",
        "\n",
        "try:\n",
        "\tos.makedirs(\"chunks\")\n",
        "except:\n",
        "\tpass\n",
        "process_audio(FILE_INPUT)\n"
      ],
      "metadata": {
        "id": "-63BJZm--o60"
      },
      "execution_count": null,
      "outputs": []
    }
  ]
}